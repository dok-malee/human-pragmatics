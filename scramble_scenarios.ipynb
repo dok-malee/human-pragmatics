{
 "cells": [
  {
   "cell_type": "code",
   "id": "initial_id",
   "metadata": {
    "collapsed": true,
    "ExecuteTime": {
     "end_time": "2024-12-15T15:58:24.451517Z",
     "start_time": "2024-12-15T15:58:24.443549Z"
    }
   },
   "source": [
    "import random\n",
    "import re"
   ],
   "outputs": [],
   "execution_count": 177
  },
  {
   "metadata": {
    "ExecuteTime": {
     "end_time": "2024-12-15T15:58:24.481543Z",
     "start_time": "2024-12-15T15:58:24.464548Z"
    }
   },
   "cell_type": "code",
   "source": [
    "scenarios = [\n",
    "    {\n",
    "        \"id\": \"CIV_1\",\n",
    "        \"text\": \"Her palms were sweaty. Mary's exam was about to start.\",\n",
    "        \"question\": \"\"\n",
    "    },\n",
    "    {\n",
    "        \"id\": \"CIV_20\",\n",
    "        \"text\": \"The water spilled onto the expensive carpet. Cleo brushed against a table with a vase on it.\",\n",
    "        \"question\": \"\"\n",
    "    },\n",
    "    {\n",
    "        \"id\": \"CIV_22\",\n",
    "        \"text\": \"He turned on the TV for a weather report. The lights have been on since last night.\",\n",
    "        \"question\": \"\"\n",
    "    },\n",
    "    {\n",
    "        \"id\": \"CIV_29\",\n",
    "        \"text\": \"A mirror fell down and shattered on the floor. Vicky was planning her first trip to Europe.\",\n",
    "        \"question\": \"\"\n",
    "    },\n",
    "]"
   ],
   "id": "22c55840167b45b3",
   "outputs": [],
   "execution_count": 178
  },
  {
   "metadata": {
    "ExecuteTime": {
     "end_time": "2024-12-15T15:58:24.528518Z",
     "start_time": "2024-12-15T15:58:24.515534Z"
    }
   },
   "cell_type": "code",
   "source": [
    "def split_sentences(text):\n",
    "    return re.findall(r\"[^.!?]*[.!?]'\", text) + re.findall(r\"[^.!?]*[.!?](?!')\", text)\n",
    "\n",
    "# Scramble function sentence-level\n",
    "def scramble_sentences(text):\n",
    "    sentences = split_sentences(text)\n",
    "    random.shuffle(sentences)\n",
    "    return \" \".join(sentences).strip()\n",
    "\n",
    "# Scramble function word-level\n",
    "def scramble_words(sentence):\n",
    "    words = sentence.split()\n",
    "    random.shuffle(words)\n",
    "    return \" \".join(words)"
   ],
   "id": "ff60533b4b2632da",
   "outputs": [],
   "execution_count": 179
  },
  {
   "metadata": {
    "ExecuteTime": {
     "end_time": "2024-12-15T15:58:24.744747Z",
     "start_time": "2024-12-15T15:58:24.725724Z"
    }
   },
   "cell_type": "code",
   "source": [
    "scrambled_scenarios = []\n",
    "for scenario in scenarios:\n",
    "    scrambled_sentence_order = scramble_sentences(scenario[\"text\"])\n",
    "    scrambled_word_level = \". \".join([scramble_words(sent) for sent in scrambled_sentence_order.split(\". \") if sent]) + \".\"\n",
    "    \n",
    "    scrambled_scenario = {\n",
    "        \"id\": scenario[\"id\"],\n",
    "        \"scrambled_sentence_level\": scrambled_sentence_order + \" \" + scenario[\"question\"],\n",
    "        \"scrambled_word_level\": scrambled_word_level + \" \" + scenario[\"question\"]\n",
    "    }\n",
    "    scrambled_scenarios.append(scrambled_scenario)"
   ],
   "id": "116f58d1ff68e6e0",
   "outputs": [],
   "execution_count": 180
  },
  {
   "metadata": {
    "ExecuteTime": {
     "end_time": "2024-12-15T15:58:24.775722Z",
     "start_time": "2024-12-15T15:58:24.762722Z"
    }
   },
   "cell_type": "code",
   "source": [
    "for s in scrambled_scenarios:\n",
    "    print(f\"Scenario ID: {s['id']}\")\n",
    "    print(f\"Scrambled Sentence-Level:\\n{s['scrambled_sentence_level']}\")\n",
    "    print(f\"Scrambled Word-Level:\\n{s['scrambled_word_level']}\")\n",
    "    print()"
   ],
   "id": "ca811b50d8b1ec6e",
   "outputs": [
    {
     "name": "stdout",
     "output_type": "stream",
     "text": [
      "Scenario ID: CIV_1\n",
      "Scrambled Sentence-Level:\n",
      "Her palms were sweaty.  Mary's exam was about to start. \n",
      "Scrambled Word-Level:\n",
      "sweaty palms Her were. was Mary's about exam to start.. \n",
      "\n",
      "Scenario ID: CIV_20\n",
      "Scrambled Sentence-Level:\n",
      "Cleo brushed against a table with a vase on it. The water spilled onto the expensive carpet. \n",
      "Scrambled Word-Level:\n",
      "brushed a on vase with a Cleo table against it. onto water the spilled carpet. The expensive. \n",
      "\n",
      "Scenario ID: CIV_22\n",
      "Scrambled Sentence-Level:\n",
      "He turned on the TV for a weather report.  The lights have been on since last night. \n",
      "Scrambled Word-Level:\n",
      "report the a for He turned TV weather on. lights last The on night. since been have. \n",
      "\n",
      "Scenario ID: CIV_29\n",
      "Scrambled Sentence-Level:\n",
      "A mirror fell down and shattered on the floor.  Vicky was planning her first trip to Europe. \n",
      "Scrambled Word-Level:\n",
      "and floor down fell on A the shattered mirror. her Vicky planning Europe. to was trip first. \n",
      "\n"
     ]
    }
   ],
   "execution_count": 181
  }
 ],
 "metadata": {
  "kernelspec": {
   "display_name": "Python 3",
   "language": "python",
   "name": "python3"
  },
  "language_info": {
   "codemirror_mode": {
    "name": "ipython",
    "version": 2
   },
   "file_extension": ".py",
   "mimetype": "text/x-python",
   "name": "python",
   "nbconvert_exporter": "python",
   "pygments_lexer": "ipython2",
   "version": "2.7.6"
  }
 },
 "nbformat": 4,
 "nbformat_minor": 5
}
